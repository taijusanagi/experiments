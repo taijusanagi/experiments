{
 "cells": [
  {
   "cell_type": "markdown",
   "id": "2359425a-4410-47f2-b209-0bfd6895fd50",
   "metadata": {},
   "source": [
    "## 🌐 Understanding Manifold Learning\n",
    "\n",
    "PCA is powerful — but it assumes that the **important structure in the data lies along straight (linear) directions**.\n",
    "\n",
    "But what if the data lies on a **curved surface inside a high-dimensional space**?\n",
    "\n",
    "This is where **manifold learning** comes in.\n",
    "\n",
    "### 1. Why PCA Isn't Always Enough\n",
    "\n",
    "Imagine you have data shaped like a **twisted ribbon** or a **spiral** in 3D.  \n",
    "PCA would try to flatten it with a straight line or plane — and lose the true shape.\n",
    "\n",
    "These kinds of shapes are called **nonlinear manifolds** — curved surfaces that live in high-dimensional space.\n",
    "\n",
    "> A **manifold** is a space that *locally* looks flat (like a sheet), but *globally* may be curved.\n",
    "\n",
    "### 2. What Is Manifold Learning?\n",
    "\n",
    "Manifold learning algorithms try to:\n",
    "- **Unroll** or **flatten** these curved structures\n",
    "- Find a lower-dimensional space that **preserves the shape** and **neighborhoods** of the data\n",
    "\n",
    "Unlike PCA, manifold methods don't assume the data lies along straight lines.\n",
    "\n",
    "### 3. Example: Swiss Roll\n",
    "\n",
    "A classic example is the **Swiss Roll** dataset — a spiral sheet curled in 3D.\n",
    "\n",
    "- PCA flattens it by slicing straight across\n",
    "- Manifold methods like **Isomap** or **t-SNE** can unroll it correctly, keeping nearby points together\n",
    "\n",
    "### 4. Common Manifold Learning Techniques\n",
    "\n",
    "Here are a few popular ones:\n",
    "\n",
    "#### • Isomap\n",
    "- Preserves **geodesic distances** (distance along the manifold surface)\n",
    "- Builds a graph between neighbors and computes shortest paths\n",
    "\n",
    "#### • t-SNE (t-distributed Stochastic Neighbor Embedding)\n",
    "- Focuses on **preserving local neighborhoods**\n",
    "- Often used for visualizing high-dimensional clusters in 2D\n",
    "\n",
    "#### • UMAP (Uniform Manifold Approximation and Projection)\n",
    "- Like t-SNE, but faster and often better at keeping **global structure**\n",
    "- Good for large datasets\n",
    "\n",
    "### 5. When to Use Manifold Learning\n",
    "\n",
    "Use it when:\n",
    "- PCA doesn't reveal interesting patterns\n",
    "- You believe the data has a **curved structure**\n",
    "- You're mainly trying to **visualize** or **understand** the shape of the data, not necessarily for modeling"
   ]
  }
 ],
 "metadata": {
  "created": "2025-04-22T02:48:54.760852+00:00",
  "kernelspec": {
   "display_name": "Python 3 (ipykernel)",
   "language": "python",
   "name": "python3"
  },
  "language_info": {
   "codemirror_mode": {
    "name": "ipython",
    "version": 3
   },
   "file_extension": ".py",
   "mimetype": "text/x-python",
   "name": "python",
   "nbconvert_exporter": "python",
   "pygments_lexer": "ipython3",
   "version": "3.11.11"
  },
  "updated": "2025-04-22T02:48:54.760852+00:00"
 },
 "nbformat": 4,
 "nbformat_minor": 5
}
