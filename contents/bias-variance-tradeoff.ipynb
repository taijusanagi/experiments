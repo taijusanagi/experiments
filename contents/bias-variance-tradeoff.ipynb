{
 "cells": [
  {
   "cell_type": "markdown",
   "id": "abca3771-5098-4a14-a2cf-2a266a0fd2b0",
   "metadata": {},
   "source": [
    "## 🎯 Bias–Variance Tradeoff\n",
    "\n",
    "In machine learning, we want our model to learn useful patterns — not just memorize the data or oversimplify it.  \n",
    "The **bias–variance tradeoff** helps us understand the balance between **underfitting** and **overfitting**.\n",
    "\n",
    "### 1. What Is Bias?\n",
    "\n",
    "**Bias** is the error caused by using a model that is **too simple** to capture the true patterns in the data.\n",
    "\n",
    "- A high-bias model makes strong assumptions (like assuming all data is linear).\n",
    "- It tends to **miss important relationships**, no matter how much data you give it.\n",
    "- This leads to **underfitting** — poor performance on both training and test data.\n",
    "\n",
    "**Example**: Fitting a straight line to data that clearly curves.\n",
    "\n",
    "### 2. What Is Variance?\n",
    "\n",
    "**Variance** is the error caused by a model being **too sensitive** to the specific details of the training data.\n",
    "\n",
    "- A high-variance model captures noise and random fluctuations instead of just the signal.\n",
    "- It performs well on the training data but poorly on unseen data.\n",
    "- This leads to **overfitting** — excellent training accuracy, but bad test performance.\n",
    "\n",
    "**Example**: A model that perfectly follows every bump in the training data curve, including outliers.\n",
    "\n",
    "### 3. The Tradeoff\n",
    "\n",
    "There’s a **tension** between bias and variance:\n",
    "\n",
    "- If you make the model more flexible to reduce bias, it might overfit (increasing variance).\n",
    "- If you make the model simpler to reduce variance, it might underfit (increasing bias).\n",
    "\n",
    "The goal is to find a **balance** — a model that captures the underlying pattern, but doesn’t get distracted by noise.\n",
    "\n",
    "### 4. A Useful Analogy\n",
    "\n",
    "Think of shooting arrows at a target:\n",
    "\n",
    "- **High bias, low variance**: All arrows land far from the bullseye but close together. (Systematically wrong)\n",
    "- **Low bias, high variance**: Arrows are scattered, some near the bullseye, but no consistency.\n",
    "- **Low bias, low variance**: Arrows are tightly grouped around the bullseye. (This is what we want!)\n",
    "\n",
    "### 5. In Practice\n",
    "\n",
    "You can manage the bias–variance tradeoff by:\n",
    "- Choosing the right model complexity (e.g. linear vs. nonlinear)\n",
    "- Using **regularization** (like Ridge or Lasso)\n",
    "- Adding more training data\n",
    "- Simplifying your features (or reducing noise)\n",
    "\n",
    "### Summary\n",
    "\n",
    "- **Bias** is error from overly simple models (underfitting).\n",
    "- **Variance** is error from overly complex models (overfitting).\n",
    "- **The best models balance both** to generalize well to new data."
   ]
  }
 ],
 "metadata": {
  "created": "2025-04-22T03:02:58.925662+00:00",
  "kernelspec": {
   "display_name": "Python 3 (ipykernel)",
   "language": "python",
   "name": "python3"
  },
  "language_info": {
   "codemirror_mode": {
    "name": "ipython",
    "version": 3
   },
   "file_extension": ".py",
   "mimetype": "text/x-python",
   "name": "python",
   "nbconvert_exporter": "python",
   "pygments_lexer": "ipython3",
   "version": "3.11.11"
  },
  "updated": "2025-04-22T03:02:58.925662+00:00"
 },
 "nbformat": 4,
 "nbformat_minor": 5
}
