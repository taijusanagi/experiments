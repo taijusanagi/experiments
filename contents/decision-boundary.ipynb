{
 "cells": [
  {
   "cell_type": "markdown",
   "id": "823a6ead-1e8d-493e-ac4a-d61378811b36",
   "metadata": {},
   "source": [
    "## 🔀 Decision Boundary\n",
    "\n",
    "In classification problems, a **decision boundary** is the surface (line in 2D) that separates different predicted classes.\n",
    "\n",
    "It’s the point where the model is **undecided** — where the prediction flips from one class to another.\n",
    "\n",
    "### 1. Why Do We Need It?\n",
    "\n",
    "In **regression**, we predict a continuous value.  \n",
    "In **classification**, we choose a category.\n",
    "\n",
    "To classify data, the model learns how to **divide the input space** into regions — one region per class.  \n",
    "The **borderline between regions** is the decision boundary.\n",
    "\n",
    "### 2. Logistic Regression Example\n",
    "\n",
    "In binary classification, logistic regression computes a probability between 0 and 1:\n",
    "\n",
    "$$\n",
    "\\hat{y} = \\sigma(w \\cdot x + b)\n",
    "$$\n",
    "\n",
    "We predict **class 1** when $\\hat{y} \\geq 0.5$, and **class 0** otherwise.\n",
    "\n",
    "So the **decision boundary** is where:\n",
    "\n",
    "$$\n",
    "\\hat{y} = 0.5 \\quad \\Rightarrow \\quad w \\cdot x + b = 0\n",
    "$$\n",
    "\n",
    "This is a straight line (or hyperplane in higher dimensions) — the place where the model is exactly 50% confident.\n",
    "\n",
    "### 3. Other Models\n",
    "\n",
    "Different models produce different kinds of boundaries:\n",
    "\n",
    "- **Linear models** (like logistic regression): straight lines  \n",
    "- **k-NN**: irregular, local shapes  \n",
    "- **SVM with kernels**: smooth curves  \n",
    "- **Decision Trees**: axis-aligned splits\n",
    "\n",
    "### Summary\n",
    "\n",
    "- A **decision boundary** separates one class from another.\n",
    "- It shows **where the model switches its prediction**.\n",
    "- Visualizing boundaries helps us understand how the model thinks — and whether it generalizes well."
   ]
  }
 ],
 "metadata": {
  "created": "2025-04-22T03:01:18.666829+00:00",
  "kernelspec": {
   "display_name": "Python 3 (ipykernel)",
   "language": "python",
   "name": "python3"
  },
  "language_info": {
   "codemirror_mode": {
    "name": "ipython",
    "version": 3
   },
   "file_extension": ".py",
   "mimetype": "text/x-python",
   "name": "python",
   "nbconvert_exporter": "python",
   "pygments_lexer": "ipython3",
   "version": "3.11.11"
  },
  "updated": "2025-04-22T03:01:18.666829+00:00"
 },
 "nbformat": 4,
 "nbformat_minor": 5
}
