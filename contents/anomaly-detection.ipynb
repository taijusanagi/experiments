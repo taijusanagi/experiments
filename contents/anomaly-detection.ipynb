{
 "cells": [
  {
   "cell_type": "markdown",
   "id": "82c28bf2-36a5-4ca3-b5b1-d50f34b27822",
   "metadata": {},
   "source": [
    "## 🚨 Introduction to Anomaly Detection\n",
    "\n",
    "Anomaly detection is about finding **things that don’t belong**.\n",
    "\n",
    "These could be:\n",
    "- A fraudulent credit card transaction\n",
    "- A faulty machine sensor reading\n",
    "- An unusual customer behavior\n",
    "\n",
    "We want to **identify rare, unusual patterns** that are different from the normal data — without necessarily having labels for them.\n",
    "\n",
    "### 1. What Is an Anomaly?\n",
    "\n",
    "An anomaly (or outlier) is a data point that is **significantly different** from the rest of the dataset.\n",
    "\n",
    "There are three common types:\n",
    "- **Point anomalies** — a single abnormal value (e.g. a 10,000 dollar charge when most are under 100 dollars)\n",
    "- **Contextual anomalies** — normal in one context, strange in another (e.g. 40°C is normal in summer, not in winter)\n",
    "- **Collective anomalies** — a group of points is strange together (e.g. multiple failed logins in a row)\n",
    "\n",
    "### 2. Why Use Unsupervised Methods?\n",
    "\n",
    "In most real-world cases:\n",
    "- We **don’t have labels** saying which data points are normal vs. abnormal\n",
    "- Anomalies are **rare**, making supervised training difficult\n",
    "\n",
    "So we often use **unsupervised algorithms** to find anomalies **based on the structure of the data**.\n",
    "\n",
    "### 3. How Does It Work?\n",
    "\n",
    "The core idea is:\n",
    "\n",
    "> \"Learn what normal looks like. Then flag anything that’s far from it.\"\n",
    "\n",
    "Common unsupervised strategies include:\n",
    "\n",
    "#### • Distance-based\n",
    "- Anomalies are **far from the center or neighbors**\n",
    "- Example: **k-Nearest Neighbors (kNN)**, **Isolation Forest**\n",
    "\n",
    "#### • Density-based\n",
    "- Anomalies live in **low-density regions**\n",
    "- Example: **Local Outlier Factor (LOF)**, **DBSCAN**\n",
    "\n",
    "#### • Model-based\n",
    "- Fit a model to the data (e.g. PCA, Gaussian) and flag points that don’t fit\n",
    "- Example: **One-Class SVM**, **Autoencoders**, **Elliptic Envelope**"
   ]
  }
 ],
 "metadata": {
  "created": "2025-04-22T02:57:05.767981+00:00",
  "kernelspec": {
   "display_name": "Python 3 (ipykernel)",
   "language": "python",
   "name": "python3"
  },
  "language_info": {
   "codemirror_mode": {
    "name": "ipython",
    "version": 3
   },
   "file_extension": ".py",
   "mimetype": "text/x-python",
   "name": "python",
   "nbconvert_exporter": "python",
   "pygments_lexer": "ipython3",
   "version": "3.11.11"
  },
  "updated": "2025-04-22T02:57:05.767981+00:00"
 },
 "nbformat": 4,
 "nbformat_minor": 5
}
